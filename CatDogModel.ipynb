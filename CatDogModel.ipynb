{
 "cells": [
  {
   "cell_type": "markdown",
   "id": "fa2f0cfa-9306-418b-a55a-1256602a817e",
   "metadata": {},
   "source": [
    "## Importing the data and defining some variables"
   ]
  },
  {
   "cell_type": "code",
   "execution_count": 1,
   "id": "36232184-944b-4737-9b14-8a7d5f691298",
   "metadata": {},
   "outputs": [],
   "source": [
    "import cv2\n",
    "import numpy as np\n",
    "import os \n",
    "from random import shuffle\n",
    "from tqdm import tqdm\n",
    "\n",
    "TRAIN_DIR = r'C:\\Users\\52551\\Desktop\\catdoghw\\train'\n",
    "TEST_DIR = r'C:\\Users\\52551\\Desktop\\catdoghw\\test\\test'\n",
    "IMG_SIZE = 50\n",
    "LR = 1e-3 \n",
    "\n",
    "MODEL_NAME = 'dogvscats--{}--{}.model'.format(LR,'conv-basic')"
   ]
  },
  {
   "cell_type": "markdown",
   "id": "8e413a82-c6d1-4564-bd41-32de17dd5241",
   "metadata": {},
   "source": [
    "## Labelling images"
   ]
  },
  {
   "cell_type": "code",
   "execution_count": 2,
   "id": "19825d05-029f-454f-a7b0-f96a15bff84a",
   "metadata": {},
   "outputs": [],
   "source": [
    "def label_img(img):\n",
    "    word_label = img.split('.')[-3]\n",
    "    if word_label == 'cat':return [1,0]\n",
    "    elif word_label == 'dog':return [0,1]"
   ]
  },
  {
   "cell_type": "markdown",
   "id": "3d4c42db-84a6-4246-aebf-f580c7c66636",
   "metadata": {},
   "source": [
    "## Creating training data"
   ]
  },
  {
   "cell_type": "code",
   "execution_count": 3,
   "id": "90e83107-142c-467d-add4-358fe38dda14",
   "metadata": {},
   "outputs": [],
   "source": [
    "def create_train_data():\n",
    "    training_data = []\n",
    "    for img in tqdm(os.listdir(TRAIN_DIR)):\n",
    "        label = label_img(img)\n",
    "        path = os.path.join(TRAIN_DIR, img)\n",
    "        img = cv2.resize(cv2.imread(path, cv2.IMREAD_GRAYSCALE), (IMG_SIZE,IMG_SIZE))\n",
    "        training_data.append([np.array(img),np.array(label)])\n",
    "    shuffle(training_data)\n",
    "    np.save('train_data.npy', training_data)\n",
    "    return training_data                     \n",
    "        "
   ]
  },
  {
   "cell_type": "markdown",
   "id": "9246bae0-448b-4e18-a838-3881f666811c",
   "metadata": {},
   "source": [
    "## Some image processing"
   ]
  },
  {
   "cell_type": "code",
   "execution_count": 4,
   "id": "1cc8a68e-4e73-4386-bb92-86c6c4fb35ef",
   "metadata": {},
   "outputs": [],
   "source": [
    "def process_test_data():\n",
    "    testing_data = []\n",
    "    for img in tqdm(os.listdir(TEST_DIR)):\n",
    "        path = os.path.join(TEST_DIR, img)\n",
    "        img_num = img.split('.')[0]\n",
    "        img = cv2.resize(cv2.imread(path, cv2.IMREAD_GRAYSCALE), (IMG_SIZE,IMG_SIZE))\n",
    "        testing_data.append([np.array(img),img_num])\n",
    "    np.save('test_data.npy', testing_data)\n",
    "    return testing_data"
   ]
  },
  {
   "cell_type": "markdown",
   "id": "b0b17e52-4ca9-434c-85bf-2e7d72efca26",
   "metadata": {},
   "source": [
    "## Creating or loading training data"
   ]
  },
  {
   "cell_type": "code",
   "execution_count": 5,
   "id": "4973ccb0-7fca-4ac8-8e8a-8cde06df035c",
   "metadata": {},
   "outputs": [
    {
     "name": "stderr",
     "output_type": "stream",
     "text": [
      "100%|████████████████████████████████████████████████████████████████| 25000/25000 [00:24<00:00, 1018.62it/s]\n",
      "C:\\Users\\52551\\anaconda3\\envs\\tf\\lib\\site-packages\\numpy\\lib\\npyio.py:528: VisibleDeprecationWarning: Creating an ndarray from ragged nested sequences (which is a list-or-tuple of lists-or-tuples-or ndarrays with different lengths or shapes) is deprecated. If you meant to do this, you must specify 'dtype=object' when creating the ndarray.\n",
      "  arr = np.asanyarray(arr)\n"
     ]
    }
   ],
   "source": [
    "train_data = create_train_data()\n",
    "#if you already have train data:\n",
    "#train_data = np.load('train_data.npy', allow_pickle=True)"
   ]
  },
  {
   "cell_type": "markdown",
   "id": "b8b44b10-889d-49cb-b091-972fbe0adcf4",
   "metadata": {},
   "source": [
    "## Define the model (we ignore the warnings)"
   ]
  },
  {
   "cell_type": "code",
   "execution_count": 6,
   "id": "d03b1a0a-b6ac-4934-9c13-d8416c0701a6",
   "metadata": {},
   "outputs": [
    {
     "name": "stdout",
     "output_type": "stream",
     "text": [
      "WARNING:tensorflow:From C:\\Users\\52551\\anaconda3\\envs\\tf\\lib\\site-packages\\tensorflow\\python\\compat\\v2_compat.py:107: disable_resource_variables (from tensorflow.python.ops.variable_scope) is deprecated and will be removed in a future version.\n",
      "Instructions for updating:\n",
      "non-resource variables are not supported in the long term\n",
      "curses is not supported on this machine (please install/reinstall curses for an optimal experience)\n",
      "WARNING:tensorflow:From C:\\Users\\52551\\anaconda3\\envs\\tf\\lib\\site-packages\\tflearn\\initializations.py:110: calling UniformUnitScaling.__init__ (from tensorflow.python.ops.init_ops) with dtype is deprecated and will be removed in a future version.\n",
      "Instructions for updating:\n",
      "Call initializer instance with the dtype argument instead of passing it to the constructor\n",
      "WARNING:tensorflow:From C:\\Users\\52551\\anaconda3\\envs\\tf\\lib\\site-packages\\tensorflow\\python\\util\\deprecation.py:561: UniformUnitScaling.__init__ (from tensorflow.python.ops.init_ops) is deprecated and will be removed in a future version.\n",
      "Instructions for updating:\n",
      "Use tf.initializers.variance_scaling instead with distribution=uniform to get equivalent behavior.\n",
      "WARNING:tensorflow:From C:\\Users\\52551\\anaconda3\\envs\\tf\\lib\\site-packages\\tflearn\\initializations.py:165: calling TruncatedNormal.__init__ (from tensorflow.python.ops.init_ops) with dtype is deprecated and will be removed in a future version.\n",
      "Instructions for updating:\n",
      "Call initializer instance with the dtype argument instead of passing it to the constructor\n",
      "WARNING:tensorflow:From C:\\Users\\52551\\anaconda3\\envs\\tf\\lib\\site-packages\\tensorflow\\python\\util\\dispatch.py:1082: calling dropout (from tensorflow.python.ops.nn_ops) with keep_prob is deprecated and will be removed in a future version.\n",
      "Instructions for updating:\n",
      "Please use `rate` instead of `keep_prob`. Rate should be set to `rate = 1 - keep_prob`.\n"
     ]
    }
   ],
   "source": [
    "import tflearn\n",
    "from tflearn.layers.conv import conv_2d, max_pool_2d\n",
    "from tflearn.layers.core import input_data, dropout, fully_connected\n",
    "from tflearn.layers.estimator import regression\n",
    "\n",
    "convnet = input_data(shape=[None, IMG_SIZE, IMG_SIZE, 1], name='input')\n",
    "\n",
    "convnet = conv_2d(convnet, 32, 5, activation='relu')\n",
    "convnet = max_pool_2d(convnet, 5)\n",
    "\n",
    "convnet = conv_2d(convnet, 64, 5, activation='relu')\n",
    "convnet = max_pool_2d(convnet, 5)\n",
    "\n",
    "convnet = conv_2d(convnet, 32, 5, activation='relu')\n",
    "convnet = max_pool_2d(convnet, 5)\n",
    "\n",
    "convnet = conv_2d(convnet, 64, 5, activation='relu')\n",
    "convnet = max_pool_2d(convnet, 5)\n",
    "\n",
    "convnet = conv_2d(convnet, 32, 5, activation='relu')\n",
    "convnet = max_pool_2d(convnet, 5)\n",
    "\n",
    "convnet = conv_2d(convnet, 64, 5, activation='relu')\n",
    "convnet = max_pool_2d(convnet, 5)\n",
    "\n",
    "convnet = fully_connected(convnet, 1024, activation='relu')\n",
    "convnet = dropout(convnet, 0.8)\n",
    "\n",
    "convnet = fully_connected(convnet, 2, activation='softmax')\n",
    "convnet = regression(convnet, optimizer='adam', learning_rate=LR, loss='categorical_crossentropy', name='targets')\n",
    "\n",
    "model = tflearn.DNN(convnet, tensorboard_dir='log')"
   ]
  },
  {
   "cell_type": "code",
   "execution_count": 7,
   "id": "1707ff1f-9245-4d2e-b87d-5805cd7ff6c3",
   "metadata": {},
   "outputs": [],
   "source": [
    "# if the model already exists, just load it\n",
    "#if os.path.exists('{}.meta'.format(MODEL_NAME)):\n",
    "   # model.load(MODEL_NAME)\n",
    "    #print('model loaded!')"
   ]
  },
  {
   "cell_type": "markdown",
   "id": "5fa5d70c-d359-430d-9fda-9d5a972e2ef7",
   "metadata": {},
   "source": [
    "## Data segmentation"
   ]
  },
  {
   "cell_type": "code",
   "execution_count": 8,
   "id": "bcc48157-42a6-49b9-b74d-52d565f31209",
   "metadata": {},
   "outputs": [],
   "source": [
    "train = train_data[:-500]\n",
    "test = train_data[-500:]"
   ]
  },
  {
   "cell_type": "code",
   "execution_count": 9,
   "id": "196ecf80-9269-4a3b-be8c-3c7238bb1411",
   "metadata": {},
   "outputs": [],
   "source": [
    "X = np.array([i[0] for i in train]).reshape(-1,IMG_SIZE,IMG_SIZE,1)\n",
    "Y = [i[1] for i in train]\n",
    "\n",
    "test_x = np.array([i[0] for i in test]).reshape(-1,IMG_SIZE,IMG_SIZE,1)\n",
    "test_y = [i[1] for i in test]\n"
   ]
  },
  {
   "cell_type": "markdown",
   "id": "df26b158-a9af-43f6-8a6b-f50fbdffd444",
   "metadata": {},
   "source": [
    "## Saving the arrays with pickle so we dont process everytime"
   ]
  },
  {
   "cell_type": "markdown",
   "id": "83c7b6bf-8553-4f80-8f82-03f5c3061f53",
   "metadata": {},
   "source": [
    "\n",
    "import pickle\n",
    "X = np.array(X)\n",
    "y = np.array(Y)\n",
    "pickle.dump(X, open('X.pkl','wb'))\n",
    "pickle.dump(y, open('y.pkl','wb'))\n"
   ]
  },
  {
   "cell_type": "markdown",
   "id": "0f619201-1db5-4a7c-9c8f-4b052f406728",
   "metadata": {},
   "source": [
    "## Training that model!!"
   ]
  },
  {
   "cell_type": "code",
   "execution_count": 10,
   "id": "84b2adf6-c76d-4f8b-8b0e-32de66a5a672",
   "metadata": {},
   "outputs": [
    {
     "name": "stdout",
     "output_type": "stream",
     "text": [
      "Training Step: 1148  | total loss: \u001b[1m\u001b[32m0.45274\u001b[0m\u001b[0m | time: 20.285s\n",
      "| Adam | epoch: 003 | loss: 0.45274 - acc: 0.7808 -- iter: 24448/24500\n",
      "Training Step: 1149  | total loss: \u001b[1m\u001b[32m0.46380\u001b[0m\u001b[0m | time: 21.339s\n",
      "| Adam | epoch: 003 | loss: 0.46380 - acc: 0.7730 | val_loss: 0.45879 - val_acc: 0.7780 -- iter: 24500/24500\n",
      "--\n"
     ]
    }
   ],
   "source": [
    "model.fit({'input': X}, {'targets': Y}, n_epoch=3, validation_set=({'input': test_x}, {'targets': test_y}), \n",
    "    snapshot_step=500, show_metric=True, run_id=MODEL_NAME)"
   ]
  },
  {
   "cell_type": "code",
   "execution_count": 11,
   "id": "27da2209-c40d-4f9c-9e4d-ec94fbea88e5",
   "metadata": {},
   "outputs": [],
   "source": [
    "#model.save(MODEL_NAME)"
   ]
  }
 ],
 "metadata": {
  "kernelspec": {
   "display_name": "Python 3 (ipykernel)",
   "language": "python",
   "name": "python3"
  },
  "language_info": {
   "codemirror_mode": {
    "name": "ipython",
    "version": 3
   },
   "file_extension": ".py",
   "mimetype": "text/x-python",
   "name": "python",
   "nbconvert_exporter": "python",
   "pygments_lexer": "ipython3",
   "version": "3.7.13"
  }
 },
 "nbformat": 4,
 "nbformat_minor": 5
}
